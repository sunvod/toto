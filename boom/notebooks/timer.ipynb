{
 "cells": [
  {
   "cell_type": "markdown",
   "id": "d50eb0a9",
   "metadata": {
    "deletable": true,
    "editable": true,
    "frozen": false,
    "tags": [
     "unsafe_output"
    ]
   },
   "source": [
    "# Running Timer models on BOOM benchmark\n",
    "\n",
    "This notebook is adapted from the [GiftEval repository](https://github.com/SalesforceAIResearch/gift-eval/tree/main/notebooks) and shows how to run the Timer models on the BOOM benchmark.\n",
    "\n",
    "Make sure you download the BOOM benchmark and set the `BOOM` environment variable correctly before running this notebook.\n",
    "\n",
    "We will use the `Dataset` class from GiftEval to load the data and run the model."
   ]
  },
  {
   "cell_type": "markdown",
   "id": "73d37ff3",
   "metadata": {},
   "source": [
    "Download BOOM datasets. Calling `download_boom_benchmark` also sets the `BOOM` environment variable with the correct path, which is needed for running the evals below."
   ]
  },
  {
   "cell_type": "code",
   "execution_count": null,
   "id": "4b976766-a448-42d9-8d4c-ab298cd3fafb",
   "metadata": {
    "deletable": true,
    "editable": true,
    "execution": {
     "iopub.execute_input": "2025-04-15T23:20:38.579302Z",
     "iopub.status.busy": "2025-04-15T23:20:38.578889Z",
     "iopub.status.idle": "2025-04-15T23:20:43.137239Z",
     "shell.execute_reply": "2025-04-15T23:20:43.136569Z",
     "shell.execute_reply.started": "2025-04-15T23:20:38.579268Z"
    },
    "frozen": false,
    "tags": [
     "unsafe_output"
    ]
   },
   "outputs": [],
   "source": [
    "# make sure the version is 4.40.1\n",
    "import transformers\n",
    "print(transformers.__version__)"
   ]
  },
  {
   "cell_type": "code",
   "execution_count": null,
   "id": "e6d2a2cf-ac0e-40d7-920f-12003c06a333",
   "metadata": {
    "deletable": true,
    "editable": true,
    "execution": {
     "iopub.execute_input": "2025-04-20T23:06:21.582784Z",
     "iopub.status.busy": "2025-04-20T23:06:21.582267Z",
     "iopub.status.idle": "2025-04-20T23:06:21.760165Z",
     "shell.execute_reply": "2025-04-20T23:06:21.759612Z",
     "shell.execute_reply.started": "2025-04-20T23:06:21.582757Z"
    },
    "frozen": false,
    "tags": [
     "unsafe_output"
    ]
   },
   "outputs": [],
   "source": [
    "import json\n",
    "from dotenv import load_dotenv\n",
    "import numpy as np\n",
    "import torch\n",
    "import torch.cuda.amp\n",
    "from gluonts.itertools import batcher\n",
    "from gluonts.model.forecast import QuantileForecast, SampleForecast\n",
    "\n",
    "from typing import List, Union, Tuple\n",
    "import torch.nn.functional as F\n",
    "\n",
    "from gluonts.itertools import batcher\n",
    "from dotenv import load_dotenv\n",
    "from dataset_utils import download_boom_benchmark\n",
    "\n",
    "boom_path = \"ChangeMe\"\n",
    "download_boom_benchmark(boom_path)\n",
    "load_dotenv()\n",
    "\n",
    "dataset_properties_map = json.load(open(\"./boom/boom_properties.json\"))\n",
    "all_datasets = list(dataset_properties_map.keys())\n",
    "print(len(all_datasets))      "
   ]
  },
  {
   "cell_type": "code",
   "execution_count": null,
   "id": "38b0231d-1ab6-482c-9fb1-7c31327981b2",
   "metadata": {
    "deletable": true,
    "editable": true,
    "execution": {
     "iopub.execute_input": "2025-04-20T23:06:24.201243Z",
     "iopub.status.busy": "2025-04-20T23:06:24.200905Z",
     "iopub.status.idle": "2025-04-20T23:06:24.237375Z",
     "shell.execute_reply": "2025-04-20T23:06:24.236844Z",
     "shell.execute_reply.started": "2025-04-20T23:06:24.201218Z"
    },
    "frozen": false,
    "tags": [
     "unsafe_output"
    ]
   },
   "outputs": [],
   "source": [
    "from gluonts.ev.metrics import (\n",
    "    MAE,\n",
    "    MAPE,\n",
    "    MASE,\n",
    "    MSE,\n",
    "    MSIS,\n",
    "    ND,\n",
    "    NRMSE,\n",
    "    RMSE,\n",
    "    SMAPE,\n",
    "    MeanWeightedSumQuantileLoss,\n",
    ")\n",
    "\n",
    "# Instantiate the metrics\n",
    "metrics = [\n",
    "    MSE(forecast_type=\"mean\"),\n",
    "    MSE(forecast_type=0.5),\n",
    "    MAE(),\n",
    "    MASE(),\n",
    "    MAPE(),\n",
    "    SMAPE(),\n",
    "    MSIS(),\n",
    "    RMSE(),\n",
    "    NRMSE(),\n",
    "    ND(),\n",
    "    MeanWeightedSumQuantileLoss(quantile_levels=[0.1, 0.2, 0.3, 0.4, 0.5, 0.6, 0.7, 0.8, 0.9]),\n",
    "]"
   ]
  },
  {
   "cell_type": "code",
   "execution_count": null,
   "id": "18c6f190-4489-44a6-95fc-746412585738",
   "metadata": {
    "deletable": true,
    "editable": true,
    "execution": {
     "iopub.execute_input": "2025-04-20T23:06:27.838763Z",
     "iopub.status.busy": "2025-04-20T23:06:27.838384Z",
     "iopub.status.idle": "2025-04-20T23:06:27.884688Z",
     "shell.execute_reply": "2025-04-20T23:06:27.884154Z",
     "shell.execute_reply.started": "2025-04-20T23:06:27.838738Z"
    },
    "frozen": false,
    "tags": [
     "unsafe_output"
    ]
   },
   "outputs": [],
   "source": [
    "from transformers import AutoModelForCausalLM, AutoTokenizer\n",
    "\n",
    "class timer_wrapper:\n",
    "    def __init__(self, prediction_length, truncate = 2048, batch_size = 1000):\n",
    "        model_name = 'thuml/timer-base-84m'\n",
    "        self.model = AutoModelForCausalLM.from_pretrained(model_name, trust_remote_code=True)\n",
    "        self.device = torch.device(\"cuda\" if torch.cuda.is_available() else \"cpu\")\n",
    "        self.batch_size = batch_size\n",
    "        self.truncate = truncate\n",
    "        self.prediction_length = prediction_length\n",
    "    def calculate_max_shape(self, values: List[Union[torch.Tensor, np.ndarray]]) -> Tuple[int, ...]:\n",
    "            \"\"\"Calculate the maximum shape for a list of tensors or arrays.\"\"\"\n",
    "            return tuple(\n",
    "                max(v.size(dim) if isinstance(v, torch.Tensor) else v.shape[dim] for v in values)\n",
    "                for dim in range(len(values[0].shape))\n",
    "            )\n",
    "\n",
    "    def pad_and_stack(self, values: List[Union[torch.Tensor, np.ndarray]], max_shape: Tuple[int, ...]) -> torch.Tensor:\n",
    "        \"\"\"Pad and stack tensors or arrays to the given max shape.\"\"\"\n",
    "        padded_values: List[torch.Tensor] = [\n",
    "            (\n",
    "                F.pad(\n",
    "                    v,\n",
    "                    [\n",
    "                        value\n",
    "                        for dim, max_dim in enumerate(reversed(max_shape))\n",
    "                        for value in (0, max_dim - (v.size(dim) if isinstance(v, torch.Tensor) else v.shape[dim]))\n",
    "                    ],\n",
    "                )\n",
    "                if isinstance(v, torch.Tensor)\n",
    "                else torch.tensor(\n",
    "                    np.pad(\n",
    "                        v, [(0, max_dim - v.shape[dim]) for dim, max_dim in enumerate(max_shape)], mode=\"constant\"\n",
    "                    )\n",
    "                )\n",
    "            )\n",
    "            for v in values\n",
    "        ]\n",
    "        return torch.stack(padded_values)\n",
    "    \n",
    "    def truncate_and_stack(self, tensor_list, maxlength):\n",
    "        \"\"\"\n",
    "        Truncates each tensor to maxlength. If a tensor is shorter than maxlength, it is left-padded with zeros.\n",
    "        Uses torch.jit.fork to parallelize the extraction and padding process.\n",
    "        \n",
    "        Args:\n",
    "            tensor_list (list of torch.Tensor): List of tensors with shape (length) or (num_channel, length).\n",
    "            maxlength (int): The fixed length to truncate or pad tensors.\n",
    "        \n",
    "        Returns:\n",
    "            torch.Tensor: Stacked tensor with shape (N, maxlength) for 1D tensors or (N, num_channel, maxlength) for 2D tensors.\n",
    "        \"\"\"\n",
    "        def process_tensor(t):\n",
    "            if t.dim() == 1:\n",
    "                pad_size = maxlength - t.shape[0]\n",
    "                if pad_size > 0:\n",
    "                    t = torch.cat([torch.zeros(pad_size, dtype=t.dtype, device=t.device), t])\n",
    "                return t[-maxlength:]\n",
    "            else:\n",
    "                pad_size = maxlength - t.shape[1]\n",
    "                if pad_size > 0:\n",
    "                    t = torch.cat([torch.zeros(t.shape[0], pad_size, dtype=t.dtype, device=t.device), t], dim=1)\n",
    "                return t[:, -maxlength:]\n",
    "        \n",
    "        futures = [torch.jit.fork(process_tensor, t) for t in tensor_list]  # Parallel extraction and padding\n",
    "        extracted_tensors = [torch.jit.wait(f) for f in futures]  # Wait for all to complete\n",
    "        return torch.stack(extracted_tensors, dim=0)  # Stack along first dimension\n",
    "    def predict(self, data):\n",
    "        self.model.eval()\n",
    "        self.model = self.model.to(self.device)\n",
    "        while self.batch_size>=1:\n",
    "            try:\n",
    "                print(\"Trying batch size\", self.batch_size)\n",
    "                forecasts = []\n",
    "                processed_inputs = []\n",
    "                for batch in batcher(data, batch_size=self.batch_size):\n",
    "                    inputs = [torch.tensor(entry[\"target\"]) for entry in batch]\n",
    "                    if not self.truncate:\n",
    "                        max_shape = self.calculate_max_shape(inputs)\n",
    "                        padded_input = self.pad_and_stack(inputs, max_shape)\n",
    "                    else:\n",
    "                        padded_input = self.truncate_and_stack(inputs, self.truncate)\n",
    "                    if len(padded_input.shape)>2:\n",
    "                        padded_input = padded_input.squeeze(1)\n",
    "                    processed_inputs.append(padded_input)\n",
    "                    padded_input = padded_input.to(self.device).float()\n",
    "                    with torch.no_grad():\n",
    "                        output = self.model.generate(padded_input, max_new_tokens=self.prediction_length)\n",
    "                    forecasts.append(output.cpu().numpy())\n",
    "                forecasts = np.concatenate(forecasts)\n",
    "                processed_inputs = np.concatenate(processed_inputs)\n",
    "                break\n",
    "            except RuntimeError:\n",
    "                self.batch_size = self.batch_size//2\n",
    "                print(f\"Batch size too large, reducing to {self.batch_size}\")\n",
    "        if self.batch_size < 1:\n",
    "            raise ValueError(\"Batch size too small\")\n",
    "        \n",
    "        forecasts_date = []\n",
    "        for item, ts in zip(forecasts, data):\n",
    "            item = item[np.newaxis,:]\n",
    "            forecast_start_date = ts[\"start\"] + len(ts[\"target\"])\n",
    "\n",
    "            forecasts_date.append(SampleForecast(samples=item, start_date=forecast_start_date))\n",
    "            \n",
    "\n",
    "        return forecasts_date"
   ]
  },
  {
   "cell_type": "markdown",
   "id": "87ef7493",
   "metadata": {
    "deletable": true,
    "editable": true,
    "frozen": false,
    "tags": [
     "unsafe_output"
    ]
   },
   "source": [
    "## Evaluation\n",
    "\n",
    "Now that we have our predictor class, we can use it to predict on the boom benchmark datasets. We will use the `evaluate_model` function from `gluonts` to evaluate the model. We are going to store the results in a csv file called `all_results.csv` under the `results/timer` folder.\n",
    "\n",
    "The first column in the csv file is the dataset config name which is a combination of the dataset name, frequency and the term:\n",
    "\n",
    "```python\n",
    "f\"{dataset_name}/{freq}/{term}\"\n",
    "```\n",
    "\n",
    "Note that we try to replace the results with the baseline results whenever the model yield nan forecasts."
   ]
  },
  {
   "cell_type": "code",
   "execution_count": null,
   "id": "2719c3b4-1564-44e8-8850-e91134001e5b",
   "metadata": {
    "deletable": true,
    "editable": true,
    "execution": {
     "iopub.execute_input": "2025-04-20T23:10:39.457339Z",
     "iopub.status.busy": "2025-04-20T23:10:39.456996Z",
     "iopub.status.idle": "2025-04-21T00:12:59.020581Z",
     "shell.execute_reply": "2025-04-21T00:12:59.019911Z",
     "shell.execute_reply.started": "2025-04-20T23:10:39.457316Z"
    },
    "frozen": false,
    "tags": [
     "unsafe_output"
    ]
   },
   "outputs": [],
   "source": [
    "from gluonts.model import evaluate_model\n",
    "import csv\n",
    "import os\n",
    "from gluonts.time_feature import get_seasonality\n",
    "from gift_eval.data import Dataset\n",
    "import torch\n",
    "import pandas as pd\n",
    "\n",
    "torch.set_float32_matmul_precision(\"high\")\n",
    "\n",
    "# Iterate over all available datasets\n",
    "model_name = \"timer\"\n",
    "output_dir = f\"ChangeMe/{model_name}\"\n",
    "# Ensure the output directory exists\n",
    "os.makedirs(output_dir, exist_ok=True)\n",
    "\n",
    "pretty_names = {\n",
    "    \"saugeenday\": \"saugeen\",\n",
    "    \"temperature_rain_with_missing\": \"temperature_rain\",\n",
    "    \"kdd_cup_2018_with_missing\": \"kdd_cup_2018\",\n",
    "    \"car_parts_with_missing\": \"car_parts\",\n",
    "}\n",
    "\n",
    "# Define the path for the CSV file\n",
    "csv_file_path = os.path.join(output_dir, \"all_results.csv\")\n",
    "\n",
    "with open(csv_file_path, \"w\", newline=\"\") as csvfile:\n",
    "    writer = csv.writer(csvfile)\n",
    "\n",
    "    # Write the header\n",
    "    writer.writerow(\n",
    "        [\n",
    "            \"dataset\",\n",
    "            \"model\",\n",
    "            \"eval_metrics/MSE[mean]\",\n",
    "            \"eval_metrics/MSE[0.5]\",\n",
    "            \"eval_metrics/MAE[0.5]\",\n",
    "            \"eval_metrics/MASE[0.5]\",\n",
    "            \"eval_metrics/MAPE[0.5]\",\n",
    "            \"eval_metrics/sMAPE[0.5]\",\n",
    "            \"eval_metrics/MSIS\",\n",
    "            \"eval_metrics/RMSE[mean]\",\n",
    "            \"eval_metrics/NRMSE[mean]\",\n",
    "            \"eval_metrics/ND[0.5]\",\n",
    "            \"eval_metrics/mean_weighted_sum_quantile_loss\",\n",
    "            \"domain\",\n",
    "            \"num_variates\",\n",
    "            \"dataset_size\",\n",
    "        ]\n",
    "    )\n",
    "nan_counts = 0\n",
    "for ds_num, ds_name in enumerate(all_datasets):\n",
    "    print(f\"Processing dataset: {ds_name} ({ds_num + 1} of {len(all_datasets)})\")\n",
    "    dataset_term = dataset_properties_map[ds_name][\"term\"]\n",
    "    terms = [\"short\", \"medium\", \"long\"]\n",
    "    for term in terms:\n",
    "        if (term == \"medium\" or term == \"long\") and dataset_term == \"short\":\n",
    "            continue\n",
    "        ds_freq = dataset_properties_map[ds_name][\"frequency\"]\n",
    "        ds_config = f\"{ds_name}/{ds_freq}/{term}\"\n",
    "\n",
    "        # Initialize the dataset, since Moirai support multivariate time series forecast, it does not require\n",
    "        # to convert the original data into univariate\n",
    "        to_univariate = False if Dataset(name=ds_name, term=term,to_univariate=False,storage_env_var=\"BOOM\").target_dim == 1 else True\n",
    "        # to_univariate = False\n",
    "        dataset = Dataset(name=ds_name, term=term, to_univariate=to_univariate,storage_env_var=\"BOOM\")\n",
    "        model = timer_wrapper(dataset.prediction_length)\n",
    "        season_length = get_seasonality(dataset.freq)\n",
    "        dataset_size = len(dataset.test_data)\n",
    "        print(f\"Dataset size: {dataset_size}\")\n",
    "        # forecasts, processed_inputs = model.predict(dataset.test_data.input)\n",
    "        try:\n",
    "            res = evaluate_model(\n",
    "                model,\n",
    "                test_data=dataset.test_data,\n",
    "                metrics=metrics,\n",
    "                batch_size=512,\n",
    "                axis=None,\n",
    "                mask_invalid_label=True,\n",
    "                allow_nan_forecast=False,\n",
    "                seasonality=season_length,\n",
    "            )\n",
    "        except Exception as e:\n",
    "            if \"NaN\" in str(e):\n",
    "                print(f\"replacing results of {ds_name} with seasonal naive scores due to NaN values\")\n",
    "                nan_counts+=1\n",
    "                res = pd.read_csv(f\"../dd_bench_results_v5_scaled_maape/seasonalnaive/all_results.csv\")\n",
    "                prefix = \"eval_metrics/\"\n",
    "                res.columns = [col[len(prefix):] if col.startswith(prefix) else col for col in res.columns]\n",
    "                res = res[res[\"dataset\"]==ds_config]\n",
    "                res = res.reset_index(drop=True)\n",
    "            else:\n",
    "                raise e\n",
    "        # Append the results to the CSV file\n",
    "        with open(csv_file_path, \"a\", newline=\"\") as csvfile:\n",
    "            writer = csv.writer(csvfile)\n",
    "            writer.writerow(\n",
    "                [\n",
    "                    ds_config,\n",
    "                    \"timer\",\n",
    "                    res[\"MSE[mean]\"][0],\n",
    "                    res[\"MSE[0.5]\"][0],\n",
    "                    res[\"MAE[0.5]\"][0],\n",
    "                    res[\"MASE[0.5]\"][0],\n",
    "                    res[\"MAPE[0.5]\"][0],\n",
    "                    res[\"sMAPE[0.5]\"][0],\n",
    "                    res[\"MSIS\"][0],\n",
    "                    res[\"RMSE[mean]\"][0],\n",
    "                    res[\"NRMSE[mean]\"][0],\n",
    "                    res[\"ND[0.5]\"][0],\n",
    "                    res[\"mean_weighted_sum_quantile_loss\"][0],\n",
    "                    dataset_properties_map[ds_name][\"domain\"],\n",
    "                    dataset_properties_map[ds_name][\"num_variates\"],\n",
    "                    dataset_size,\n",
    "                ]\n",
    "            )\n",
    "\n",
    "        print(f\"Results for {ds_name} have been written to {csv_file_path}\")"
   ]
  },
  {
   "cell_type": "markdown",
   "id": "74c27950",
   "metadata": {
    "deletable": true,
    "editable": true,
    "frozen": false
   },
   "source": [
    "## Results\n",
    "\n",
    "Running the above cell will generate a csv file called `all_results.csv` under the `results/timer` folder containing the results for the Timer model on the gift-eval benchmark. The csv file will look like this:"
   ]
  },
  {
   "cell_type": "code",
   "execution_count": null,
   "id": "4fe85981-77a0-4c38-9cab-17c96cf3fde8",
   "metadata": {
    "deletable": true,
    "editable": true,
    "execution": {
     "iopub.execute_input": "2025-04-04T14:58:19.212746Z",
     "iopub.status.busy": "2025-04-04T14:58:19.212384Z",
     "iopub.status.idle": "2025-04-04T14:58:19.287547Z",
     "shell.execute_reply": "2025-04-04T14:58:19.286974Z",
     "shell.execute_reply.started": "2025-04-04T14:58:19.212720Z"
    },
    "frozen": false,
    "tags": [
     "unsafe_output"
    ]
   },
   "outputs": [],
   "source": [
    "import pandas as pd\n",
    "df = pd.read_csv(output_dir + \"/all_results.csv\")\n",
    "df"
   ]
  }
 ],
 "metadata": {
  "dd-sharing": {
   "allowed_groups": [
    "subproduct-datascience",
    "combined-data-science",
    "team-largemodelfoundationsresearch",
    ""
   ],
   "allowed_users": [
    ""
   ],
   "retention_period": "90"
  },
  "kernelspec": {
   "display_name": "timer_eval_env",
   "language": "python",
   "name": "timer_eval_env"
  },
  "language_info": {
   "codemirror_mode": {
    "name": "ipython",
    "version": 3
   },
   "file_extension": ".py",
   "mimetype": "text/x-python",
   "name": "python",
   "nbconvert_exporter": "python",
   "pygments_lexer": "ipython3",
   "version": "3.10.15"
  }
 },
 "nbformat": 4,
 "nbformat_minor": 5
}
